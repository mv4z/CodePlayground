{
 "cells": [
  {
   "cell_type": "code",
   "execution_count": null,
   "metadata": {},
   "outputs": [],
   "source": [
    "def add(param1, param2):\n",
    "    return (param1 + param2)"
   ]
  },
  {
   "cell_type": "code",
   "execution_count": null,
   "metadata": {},
   "outputs": [],
   "source": [
    "def firstDuplicate(a):\n",
    "    adict = dict()\n",
    "\n",
    "    for i in a:\n",
    "       if i in adict:\n",
    "           return i\n",
    "       else:\n",
    "           adict[i] = 1\n",
    "\n",
    "    else:\n",
    "        return -1"
   ]
  },
  {
   "cell_type": "code",
   "execution_count": null,
   "metadata": {},
   "outputs": [],
   "source": [
    "def firstNotRepeatingCharacter(s):\n",
    "    sDict = dict()\n",
    "\n",
    "    for i in s:\n",
    "        if i in sDict:\n",
    "            sDict[i] += 1\n",
    "        else:\n",
    "            sDict[i] = 1\n",
    "        \n",
    "    for i in s:\n",
    "        if sDict[i] == 1:\n",
    "            return i\n",
    "    else:\n",
    "        return '_'\n",
    "\n"
   ]
  },
  {
   "cell_type": "code",
   "execution_count": null,
   "metadata": {},
   "outputs": [],
   "source": [
    "def groupingDishes(dishes):\n",
    "    menu = {}\n",
    "    outp = []\n",
    "    for i in range(len(dishes)):\n",
    "        for j in range(1, len(dishes[i])):\n",
    "            curr_dish = dishes[i][j]\n",
    "            if curr_dish not in menu:\n",
    "                menu[curr_dish] =[]\n",
    "                menu[curr_dish].append(dishes[i][0])\n",
    "                \n",
    "            elif curr_dish in menu:\n",
    "                menu[curr_dish].append(dishes[i][0])\n",
    "                \n",
    "    for i in menu:\n",
    "        if(len(menu[i]) >= 2):\n",
    "           menu[i].sort()\n",
    "           outp.append([i] + (menu[i]))\n",
    "    \n",
    "    outp.sort()\n",
    "    return outp"
   ]
  },
  {
   "cell_type": "code",
   "execution_count": null,
   "metadata": {},
   "outputs": [],
   "source": [
    "def areFollowingPatterns(strings, patterns):\n",
    "    if len(strings) != len(patterns):\n",
    "        return False\n",
    "    d = {}\n",
    "    for i in range(len(strings)):\n",
    "        if patterns[i] not in d:\n",
    "            if strings[i] not in d.values():\n",
    "                d[patterns[i]] = strings[i]\n",
    "            else:\n",
    "                return False\n",
    "        else:\n",
    "            if d[patterns[i]] != strings[i]:\n",
    "                return False\n",
    "    return True"
   ]
  },
  {
   "cell_type": "code",
   "execution_count": null,
   "metadata": {},
   "outputs": [],
   "source": [
    "def containsCloseNums(nums, k):\n",
    "    if len(nums) <= 1:\n",
    "        return False\n",
    "    d = {}\n",
    "    for i in range(len(nums)):\n",
    "        if nums[i] in d:\n",
    "            if i - d[nums[i]] <= k:\n",
    "                return True\n",
    "        d[nums[i]] = i\n",
    "    return False"
   ]
  },
  {
   "cell_type": "code",
   "execution_count": null,
   "metadata": {},
   "outputs": [],
   "source": [
    "def countBits(n):\n",
    "    return n.bit_length()"
   ]
  },
  {
   "cell_type": "code",
   "execution_count": null,
   "metadata": {},
   "outputs": [],
   "source": [
    "def modulus(n):\n",
    "    if type(n) == int:\n",
    "        return n % 2\n",
    "    else:\n",
    "        return -1"
   ]
  },
  {
   "cell_type": "code",
   "execution_count": null,
   "metadata": {},
   "outputs": [],
   "source": [
    "def simpleSort(arr):\n",
    "\n",
    "    n = len(arr)\n",
    "\n",
    "    for i in range(n):\n",
    "        j = 0\n",
    "        stop = n - i\n",
    "        while j < stop - 1:\n",
    "            if arr[j] > arr[j + 1]:\n",
    "                arr[j+1], arr[j] = arr[j], arr[j+1]\n",
    "            j += 1\n",
    "    return arr"
   ]
  },
  {
   "cell_type": "code",
   "execution_count": null,
   "metadata": {},
   "outputs": [],
   "source": [
    "def baseConversion(n, x):\n",
    "    return hex(int(n, x))[2:]"
   ]
  },
  {
   "cell_type": "code",
   "execution_count": null,
   "metadata": {},
   "outputs": [],
   "source": [
    "def mexFunction(s, upperBound):\n",
    "    found = -1\n",
    "    for i in range(upperBound):\n",
    "        if not i in s:\n",
    "            found = i\n",
    "            break\n",
    "    else:\n",
    "        return upperBound\n",
    "\n",
    "    return found"
   ]
  },
  {
   "cell_type": "code",
   "execution_count": null,
   "metadata": {},
   "outputs": [],
   "source": [
    "def listBeautifier(a):\n",
    "    res = a[:]\n",
    "    while res and res[0] != res[-1]:\n",
    "        a, *res, b = res\n",
    "    return res"
   ]
  },
  {
   "cell_type": "code",
   "execution_count": null,
   "metadata": {},
   "outputs": [],
   "source": [
    "def addTwoDigits(n):\n",
    "    tot = 0\n",
    "    for i in str(n):\n",
    "        tot += int(i)\n",
    "    return tot"
   ]
  },
  {
   "cell_type": "code",
   "execution_count": null,
   "metadata": {},
   "outputs": [],
   "source": [
    "def largestNumber(n):\n",
    "    return ((10**n) - 1)"
   ]
  },
  {
   "cell_type": "code",
   "execution_count": null,
   "metadata": {},
   "outputs": [],
   "source": [
    "def candies(n, m):\n",
    "    return ((m // n) * n)"
   ]
  },
  {
   "cell_type": "code",
   "execution_count": null,
   "metadata": {},
   "outputs": [],
   "source": [
    "def seatsInTheater(nCols, nRows, col, row):\n",
    "    return((nCols-col+1) * (nRows-row) )"
   ]
  },
  {
   "cell_type": "code",
   "execution_count": null,
   "metadata": {},
   "outputs": [],
   "source": [
    "def maxMultiple(divisor, bound):\n",
    "    i = 1\n",
    "    num = 0\n",
    "    while(i <= bound):\n",
    "        if (i %divisor == 0):\n",
    "            num = i\n",
    "        i += 1\n",
    "    return num"
   ]
  },
  {
   "cell_type": "code",
   "execution_count": null,
   "metadata": {},
   "outputs": [],
   "source": [
    "def circleOfNumbers(n, firstNumber):\n",
    "    ret = firstNumber + (n//2)\n",
    "    if ret >= n:\n",
    "        return ret - n\n",
    "    return(ret)"
   ]
  },
  {
   "cell_type": "code",
   "execution_count": null,
   "metadata": {},
   "outputs": [],
   "source": [
    "def lateRide(n):\n",
    "    hrs = n // 60\n",
    "    minutes = n % 60\n",
    "\n",
    "    return sum([(hrs//10), hrs%10, minutes//10, minutes%10])"
   ]
  },
  {
   "cell_type": "code",
   "execution_count": null,
   "metadata": {},
   "outputs": [],
   "source": [
    "def phoneCall(min1, min2_10, min11, s):\n",
    "    minutes = 0\n",
    "\n",
    "    rate = min1\n",
    "    while s > 0:\n",
    "        \n",
    "        minutes += 1\n",
    "        \n",
    "        if minutes == 2:\n",
    "            rate = min2_10\n",
    "        elif minutes > 10:\n",
    "            rate = min11\n",
    "        \n",
    "        s -= rate\n",
    "        if s < 0:\n",
    "            minutes -= 1\n",
    "        \n",
    "    return minutes"
   ]
  },
  {
   "cell_type": "code",
   "execution_count": null,
   "metadata": {},
   "outputs": [],
   "source": [
    "def reachNextLevel(experience, threshold, reward):\n",
    "    return( experience + reward >= threshold)"
   ]
  },
  {
   "cell_type": "code",
   "execution_count": null,
   "metadata": {},
   "outputs": [],
   "source": [
    "def knapsackLight(value1, weight1, value2, weight2, maxW):\n",
    "    if weight1 <= maxW:\n",
    "        if weight1 + weight2 <= maxW:\n",
    "            return value1+value2\n",
    "        elif(weight2 <= maxW):\n",
    "            return max(value1, value2)\n",
    "        else:\n",
    "            return value1\n",
    "    elif weight2 <= maxW:\n",
    "        return value2\n",
    "    return 0"
   ]
  },
  {
   "cell_type": "code",
   "execution_count": null,
   "metadata": {},
   "outputs": [],
   "source": [
    "def extraNumber(a, b, c):\n",
    "    if a != b and a!= c:\n",
    "        return a\n",
    "    if b!= a and b!=c:\n",
    "        return b\n",
    "    if c!= a and c!=b :\n",
    "        return c"
   ]
  },
  {
   "cell_type": "code",
   "execution_count": null,
   "metadata": {},
   "outputs": [],
   "source": [
    "def fixMessage(message):\n",
    "    return message.capitalize()"
   ]
  },
  {
   "cell_type": "code",
   "execution_count": null,
   "metadata": {},
   "outputs": [],
   "source": [
    "def catWalk(code):\n",
    "    return ' '.join(code.split())"
   ]
  },
  {
   "cell_type": "code",
   "execution_count": null,
   "metadata": {},
   "outputs": [],
   "source": [
    "def convertTabs(code, x):\n",
    "    return code.replace(\"\\t\", ' '*x)"
   ]
  },
  {
   "cell_type": "code",
   "execution_count": null,
   "metadata": {},
   "outputs": [],
   "source": [
    "import textwrap\n",
    "\n",
    "def feedbackReview(feedback, size):\n",
    "    return textwrap.wrap(feedback,size)"
   ]
  },
  {
   "cell_type": "code",
   "execution_count": null,
   "metadata": {},
   "outputs": [],
   "source": [
    "def isWordPalindrome(word):\n",
    "    return word == word[::-1]"
   ]
  },
  {
   "cell_type": "code",
   "execution_count": null,
   "metadata": {},
   "outputs": [],
   "source": [
    "def permutationCipher(password, key):\n",
    "    table = str.maketrans(string.ascii_lowercase, key)\n",
    "    return password.translate(table)"
   ]
  },
  {
   "cell_type": "code",
   "execution_count": null,
   "metadata": {},
   "outputs": [],
   "source": [
    "def competitiveEating(t, width, precision):\n",
    "    return '{:^{}.{}f}'.format(t, width, precision)"
   ]
  },
  {
   "cell_type": "code",
   "execution_count": null,
   "metadata": {},
   "outputs": [],
   "source": [
    "import re\n",
    "\n",
    "def newStyleFormatting(s):\n",
    "    s = re.sub('%%', '{%}', s)\n",
    "    s = re.sub('%[dfFgeEGnnxXodcbs]', '{}', s)\n",
    "    return re.sub('{%}','%', s)"
   ]
  },
  {
   "cell_type": "code",
   "execution_count": null,
   "metadata": {},
   "outputs": [],
   "source": [
    "import re\n",
    "\n",
    "def getCommit(commit):\n",
    "    return re.sub('[!+?0]', '', commit)"
   ]
  },
  {
   "cell_type": "code",
   "execution_count": null,
   "metadata": {},
   "outputs": [],
   "source": [
    "# Singly-linked lists are already defined with this interface:\n",
    "# class ListNode(object):\n",
    "#   def __init__(self, x):\n",
    "#     self.value = x\n",
    "#     self.next = None\n",
    "#\n",
    "def removeKFromList(l, k):\n",
    "    c = l\n",
    "    while c:\n",
    "        if c.next and c.next.value == k:\n",
    "            c.next = c.next.next\n",
    "        else:\n",
    "            c = c.next\n",
    "    return l.next if l and l.value == k else l"
   ]
  },
  {
   "cell_type": "code",
   "execution_count": null,
   "metadata": {},
   "outputs": [],
   "source": [
    "def isInfiniteProcess(a, b):\n",
    "    return a > b or (a % 2 != b % 2)"
   ]
  },
  {
   "cell_type": "code",
   "execution_count": null,
   "metadata": {},
   "outputs": [],
   "source": [
    "def arithmeticExpression(a, b, c):\n",
    "    return a + b == c or a - b == c or a * b == c or a / b == c"
   ]
  },
  {
   "cell_type": "code",
   "execution_count": null,
   "metadata": {},
   "outputs": [],
   "source": [
    "def tennisSet(score1, score2):\n",
    "    #you need to win 6 matches to win the set\n",
    "    #if you win 6 and your opponent has already won 5, you continue until \n",
    "    #one of you gets to 7.\n",
    "    #7 is the cap here.\n",
    "\n",
    "    if max(score1, score2) == 6 and min(score1, score2) < 5:\n",
    "        return True\n",
    "    if 5 <= min(score1, score2) <= 6 and max(score1, score2) == 7:\n",
    "        return True\n",
    "    return False"
   ]
  },
  {
   "cell_type": "code",
   "execution_count": null,
   "metadata": {},
   "outputs": [],
   "source": [
    "def willYou(young, beautiful, loved):\n",
    "    if(young and beautiful and not loved):\n",
    "        return True\n",
    "    elif((not young or not beautiful )and loved):\n",
    "        return True\n",
    "    return False"
   ]
  },
  {
   "cell_type": "code",
   "execution_count": null,
   "metadata": {},
   "outputs": [],
   "source": [
    "def metroCard(lastNumberOfDays):\n",
    "    if(lastNumberOfDays == 28 or lastNumberOfDays == 30):\n",
    "        return [31]\n",
    "    else:\n",
    "        return [28, 30, 31]"
   ]
  },
  {
   "cell_type": "code",
   "execution_count": null,
   "metadata": {},
   "outputs": [],
   "source": [
    "def killKthBit(n, k):\n",
    "    return n & ~(2 ** (k - 1))"
   ]
  }
 ],
 "metadata": {
  "kernelspec": {
   "display_name": "Python 3",
   "language": "python",
   "name": "python3"
  },
  "language_info": {
   "codemirror_mode": {
    "name": "ipython",
    "version": 3
   },
   "file_extension": ".py",
   "mimetype": "text/x-python",
   "name": "python",
   "nbconvert_exporter": "python",
   "pygments_lexer": "ipython3",
   "version": "3.8.1"
  }
 },
 "nbformat": 4,
 "nbformat_minor": 4
}

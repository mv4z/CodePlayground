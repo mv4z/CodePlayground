{
 "cells": [
  {
   "cell_type": "code",
   "execution_count": 13,
   "metadata": {},
   "outputs": [
    {
     "name": "stdout",
     "output_type": "stream",
     "text": [
      "Node:  15\n",
      "Node:  13\n",
      "Node:  49\n",
      "Node:  38\n",
      "Item count:  4\n",
      "Finding item:  <__main__.Node object at 0x105f08040>\n",
      "Finding item:  None\n",
      "Item count:  3\n",
      "Finding item:  None\n",
      "Node:  15\n",
      "Node:  13\n",
      "Node:  49\n"
     ]
    }
   ],
   "source": [
    "# Linked list example\n",
    "\n",
    "\n",
    "# the Node class\n",
    "class Node(object):\n",
    "    def __init__(self, val):\n",
    "        self.val = val\n",
    "        self.next = None\n",
    "\n",
    "    def get_data(self):\n",
    "        return self.val\n",
    "\n",
    "    def set_data(self, val):\n",
    "        self.val = val\n",
    "\n",
    "    def get_next(self):\n",
    "        return self.next\n",
    "\n",
    "    def set_next(self, next):\n",
    "        self.next = next\n",
    "\n",
    "\n",
    "# the LinkedList class\n",
    "class LinkedList(object):\n",
    "    def __init__(self, head=None):\n",
    "        self.head = head\n",
    "        self.count = 0\n",
    "\n",
    "    def get_count(self):\n",
    "        return self.count\n",
    "\n",
    "    def insert(self, data):\n",
    "        new_node = Node(data)\n",
    "        new_node.set_next(self.head)\n",
    "        self.head = new_node\n",
    "        self.count += 1\n",
    "\n",
    "    def find(self, val):\n",
    "        item = self.head\n",
    "        while (item != None):\n",
    "            if item.get_data() == val:\n",
    "                return item\n",
    "            else:\n",
    "                item = item.get_next()\n",
    "        return None\n",
    "\n",
    "    def deleteAt(self, idx):\n",
    "        if idx > self.count:\n",
    "            return\n",
    "        if self.head == None:\n",
    "            return\n",
    "        else:\n",
    "            tempIdx = 0\n",
    "            node = self.head\n",
    "            while tempIdx < idx-1:\n",
    "                node = node.get_next()\n",
    "                tempIdx += 1\n",
    "            node.set_next(node.get_next().get_next())\n",
    "            self.count -= 1\n",
    "\n",
    "    def dump_list(self):\n",
    "        tempnode = self.head\n",
    "        while (tempnode != None):\n",
    "            print(\"Node: \", tempnode.get_data())\n",
    "            tempnode = tempnode.get_next()\n",
    "\n",
    "\n",
    "# create a linked list and insert some items\n",
    "itemlist = LinkedList()\n",
    "itemlist.insert(38)\n",
    "itemlist.insert(49)\n",
    "itemlist.insert(13)\n",
    "itemlist.insert(15)\n",
    "\n",
    "itemlist.dump_list()\n",
    "\n",
    "# exercise the list\n",
    "print(\"Item count: \", itemlist.get_count())\n",
    "print(\"Finding item: \", itemlist.find(13))\n",
    "print(\"Finding item: \", itemlist.find(78))\n",
    "\n",
    "# delete an item\n",
    "itemlist.deleteAt(3)\n",
    "print(\"Item count: \", itemlist.get_count())\n",
    "print(\"Finding item: \", itemlist.find(38))\n",
    "itemlist.dump_list()\n"
   ]
  },
  {
   "cell_type": "markdown",
   "metadata": {},
   "source": [
    "# # # Stacks and queues"
   ]
  },
  {
   "cell_type": "code",
   "execution_count": 15,
   "metadata": {},
   "outputs": [
    {
     "name": "stdout",
     "output_type": "stream",
     "text": [
      "[1, 2, 3, 4]\n",
      "4\n",
      "[1, 2, 3]\n"
     ]
    }
   ],
   "source": [
    "#in python we can just use a regular list to create stacks and queues\n",
    "#create a new empty stack\n",
    "stack = []\n",
    "\n",
    "#add items to the stack\n",
    "stack.append(1)\n",
    "stack.append(2)\n",
    "stack.append(3)\n",
    "stack.append(4)\n",
    "\n",
    "print(stack)\n",
    "\n",
    "x = stack.pop()\n",
    "print(x)\n",
    "print(stack)"
   ]
  },
  {
   "cell_type": "code",
   "execution_count": 19,
   "metadata": {},
   "outputs": [
    {
     "name": "stdout",
     "output_type": "stream",
     "text": [
      "deque([1, 2, 3, 4])\n",
      "1\n",
      "deque([2, 3, 4])\n"
     ]
    }
   ],
   "source": [
    "from collections import deque\n",
    "queue = deque()\n",
    "\n",
    "queue.append(1)\n",
    "queue.append(2)\n",
    "queue.append(3)\n",
    "queue.append(4)\n",
    "\n",
    "print(queue)\n",
    "\n",
    "x = queue.popleft()\n",
    "print(x)\n",
    "print(queue)"
   ]
  },
  {
   "cell_type": "markdown",
   "metadata": {},
   "source": [
    "# # Hashtables"
   ]
  },
  {
   "cell_type": "code",
   "execution_count": 38,
   "metadata": {},
   "outputs": [
    {
     "name": "stdout",
     "output_type": "stream",
     "text": [
      "{'key1': 1, 'key2': 2, 'key3': 'three'}\n",
      "{'one': 1, 'two': 2, '3': 'three'}\n",
      "dos\n",
      "key one, value: 1\n",
      "key two, value: dos\n",
      "key 3, value: three\n"
     ]
    }
   ],
   "source": [
    "#demonstrate hash table usage\n",
    "items1 = {\"key1\": 1, \"key2\":2, \"key3\":\"three\"}\n",
    "print(items1)\n",
    "\n",
    "items2 = {}\n",
    "items2[\"one\"] = 1\n",
    "items2[\"two\"] = 2\n",
    "items2[\"3\"] = 'three'\n",
    "\n",
    "print(items2)\n",
    "\n",
    "items2['two'] = 'dos'\n",
    "print(items2['two'])\n",
    "\n",
    "for key, value in items2.items():\n",
    "    print(\"key \" + str(key) + \", value: \" + str(value))"
   ]
  },
  {
   "cell_type": "markdown",
   "metadata": {},
   "source": [
    "# Recursion"
   ]
  },
  {
   "cell_type": "code",
   "execution_count": 40,
   "metadata": {},
   "outputs": [
    {
     "name": "stdout",
     "output_type": "stream",
     "text": [
      "4\n",
      "3\n",
      "2\n",
      "1\n",
      "done\n"
     ]
    }
   ],
   "source": [
    "def countdown(n):\n",
    "    if(n==0):\n",
    "        print('done')\n",
    "        return\n",
    "    print(n)\n",
    "    countdown(n-1)\n",
    "countdown(4)"
   ]
  },
  {
   "cell_type": "code",
   "execution_count": 49,
   "metadata": {},
   "outputs": [
    {
     "data": {
      "text/plain": [
       "6"
      ]
     },
     "execution_count": 49,
     "metadata": {},
     "output_type": "execute_result"
    }
   ],
   "source": [
    "def power(num, p):\n",
    "    if(p == 0):\n",
    "        return 1\n",
    "    return num * (power(num, p-1))\n",
    "\n",
    "def factorial (num):\n",
    "    if num == 1:\n",
    "        return 1\n",
    "    return num * factorial(num-1)\n",
    "\n",
    "factorial(3)"
   ]
  },
  {
   "cell_type": "markdown",
   "metadata": {},
   "source": [
    "# Sorting Algos"
   ]
  },
  {
   "cell_type": "code",
   "execution_count": 2,
   "metadata": {},
   "outputs": [],
   "source": [
    "def mergesort(nums):\n",
    "    if(len(nums) > 2):\n",
    "        mid = len(nums)//2\n",
    "        left = nums[:mid]\n",
    "        right = nums[mid:]\n",
    "        \n",
    "        mergesort(left)\n",
    "        mergesort(right)\n",
    "        \n",
    "        i = j = k = 0\n",
    "        \n",
    "        while (i < len(left) and j < len(right)):\n",
    "            if(left[i] < right[j]):\n",
    "                nums[k] = left[i]\n",
    "                i += 1\n",
    "            \n",
    "            elif(left[i] > right[j]):\n",
    "                nums[k] = right[j]\n",
    "                j += 1\n",
    "                \n",
    "            k += 1\n",
    "        \n",
    "        while(i < len(left)):\n",
    "            nums[k] = left[i]\n",
    "            i += 1\n",
    "            k += 1\n",
    "        while(j < len(right)):\n",
    "            nums[k] = right[j]\n",
    "            j += 1 \n",
    "            k += 1"
   ]
  },
  {
   "cell_type": "code",
   "execution_count": 3,
   "metadata": {},
   "outputs": [],
   "source": [
    "items = [6, 20, 8, 19, 56, 23, 87, 41, 49, 53]"
   ]
  },
  {
   "cell_type": "code",
   "execution_count": 4,
   "metadata": {},
   "outputs": [],
   "source": [
    "mergesort(items)"
   ]
  },
  {
   "cell_type": "code",
   "execution_count": 5,
   "metadata": {},
   "outputs": [
    {
     "data": {
      "text/plain": [
       "[6, 8, 19, 20, 23, 41, 49, 53, 56, 87]"
      ]
     },
     "execution_count": 5,
     "metadata": {},
     "output_type": "execute_result"
    }
   ],
   "source": [
    "items"
   ]
  },
  {
   "cell_type": "code",
   "execution_count": 16,
   "metadata": {},
   "outputs": [],
   "source": [
    "def quicksort(nums, first, last):\n",
    "    if(first < last):\n",
    "        pivotIndex = partition(nums, first, last)\n",
    "        \n",
    "        quicksort(nums, first, pivotIndex)\n",
    "        quicksort(nums, pivotIndex+1, last)\n",
    "        \n",
    "def partition(nums, first, last):\n",
    "    pivot = nums[first]\n",
    "    lower = first+1\n",
    "    upper = last\n",
    "    \n",
    "    complete = False\n",
    "    while not complete:\n",
    "        while lower <= upper and nums[lower] < pivot:\n",
    "            lower +=1\n",
    "        while nums[upper] >= pivot and upper >= lower:\n",
    "            upper -= 1\n",
    "            \n",
    "        if(upper < lower):\n",
    "            complete = True\n",
    "        else:\n",
    "            tmp = nums[lower]\n",
    "            nums[lower] = nums[upper]\n",
    "            nums[upper] = tmp\n",
    "            \n",
    "    tmp = nums[first]\n",
    "    nums[first] = nums[upper]\n",
    "    nums[upper] = tmp\n",
    "    \n",
    "    return upper"
   ]
  },
  {
   "cell_type": "code",
   "execution_count": 17,
   "metadata": {},
   "outputs": [],
   "source": [
    "items = [6, 20, 8, 19, 56, 23, 87, 41, 49, 53]"
   ]
  },
  {
   "cell_type": "code",
   "execution_count": 19,
   "metadata": {},
   "outputs": [],
   "source": [
    "quicksort(items, 0, 9)"
   ]
  },
  {
   "cell_type": "code",
   "execution_count": 20,
   "metadata": {},
   "outputs": [
    {
     "data": {
      "text/plain": [
       "[6, 8, 19, 20, 23, 41, 49, 53, 56, 87]"
      ]
     },
     "execution_count": 20,
     "metadata": {},
     "output_type": "execute_result"
    }
   ],
   "source": [
    "items"
   ]
  },
  {
   "cell_type": "markdown",
   "metadata": {},
   "source": [
    "# Searching Algos"
   ]
  },
  {
   "cell_type": "code",
   "execution_count": 22,
   "metadata": {},
   "outputs": [
    {
     "name": "stdout",
     "output_type": "stream",
     "text": [
      "done\n"
     ]
    }
   ],
   "source": [
    "l = [1, 2, 3, 4, 5, 6]\n",
    "\n",
    "for i in l:\n",
    "    if i == 4:\n",
    "        print('done')\n",
    "        "
   ]
  },
  {
   "cell_type": "markdown",
   "metadata": {},
   "source": [
    "The all() function. \n",
    "Returns a boolean. Checks a condition on a list to make sure that they all follow it."
   ]
  },
  {
   "cell_type": "code",
   "execution_count": 27,
   "metadata": {},
   "outputs": [
    {
     "ename": "NameError",
     "evalue": "name 'lowercase' is not defined",
     "output_type": "error",
     "traceback": [
      "\u001b[0;31m---------------------------------------------------------------------------\u001b[0m",
      "\u001b[0;31mNameError\u001b[0m                                 Traceback (most recent call last)",
      "\u001b[0;32m<ipython-input-27-78d3d09b9752>\u001b[0m in \u001b[0;36m<module>\u001b[0;34m\u001b[0m\n\u001b[0;32m----> 1\u001b[0;31m \u001b[0mascii\u001b[0m\u001b[0;34m(\u001b[0m\u001b[0mlowercase\u001b[0m\u001b[0;34m)\u001b[0m\u001b[0;34m\u001b[0m\u001b[0;34m\u001b[0m\u001b[0m\n\u001b[0m",
      "\u001b[0;31mNameError\u001b[0m: name 'lowercase' is not defined"
     ]
    }
   ],
   "source": [
    "ascii(lowercase)"
   ]
  },
  {
   "cell_type": "code",
   "execution_count": 28,
   "metadata": {},
   "outputs": [
    {
     "data": {
      "text/plain": [
       "'0+!!someCommIdhsSt'"
      ]
     },
     "execution_count": 28,
     "metadata": {},
     "output_type": "execute_result"
    }
   ],
   "source": [
    "def getCommit(commit):\n",
    "    return commit.strip('0').strip('?').strip('+').strip(\"!\")\n",
    "getCommit(\"0??+0+!!someCommIdhsSt\")"
   ]
  },
  {
   "cell_type": "code",
   "execution_count": 18,
   "metadata": {},
   "outputs": [
    {
     "data": {
      "text/plain": [
       "4"
      ]
     },
     "execution_count": 18,
     "metadata": {},
     "output_type": "execute_result"
    }
   ],
   "source": [
    "def singleNumber(nums):\n",
    "        d = {}\n",
    "        for i in nums:\n",
    "            if i not in d:\n",
    "                d[i] = 1\n",
    "            else:\n",
    "                d[i] += 1\n",
    "        for key, value in d.items():\n",
    "            if value ==1:\n",
    "                return key\n",
    "            \n",
    "singleNumber([4,1,2,1,2])"
   ]
  },
  {
   "cell_type": "code",
   "execution_count": null,
   "metadata": {},
   "outputs": [],
   "source": []
  }
 ],
 "metadata": {
  "kernelspec": {
   "display_name": "Python 3",
   "language": "python",
   "name": "python3"
  },
  "language_info": {
   "codemirror_mode": {
    "name": "ipython",
    "version": 3
   },
   "file_extension": ".py",
   "mimetype": "text/x-python",
   "name": "python",
   "nbconvert_exporter": "python",
   "pygments_lexer": "ipython3",
   "version": "3.8.1"
  }
 },
 "nbformat": 4,
 "nbformat_minor": 4
}

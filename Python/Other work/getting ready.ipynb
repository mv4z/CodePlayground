{
 "cells": [
  {
   "cell_type": "code",
   "execution_count": 8,
   "metadata": {},
   "outputs": [],
   "source": [
    "dishes =[[\"Salad\",\"Tomato\",\"Cucumber\",\"Salad\",\"Sauce\"], \n",
    " [\"Pizza\",\"Tomato\",\"Sausage\",\"Sauce\",\"Dough\"], \n",
    " [\"Quesadilla\",\"Chicken\",\"Cheese\",\"Sauce\"], \n",
    " [\"Sandwich\",\"Salad\",\"Bread\",\"Tomato\",\"Cheese\"]]"
   ]
  },
  {
   "cell_type": "code",
   "execution_count": 75,
   "metadata": {},
   "outputs": [],
   "source": [
    "def groupingDishes(dishes):\n",
    "    menu = {}\n",
    "    outp = []\n",
    "    for i in range(len(dishes)):\n",
    "        for j in range(1, len(dishes[i])):\n",
    "            curr_dish = dishes[i][j]\n",
    "            if curr_dish not in menu:\n",
    "                menu[curr_dish] =[]\n",
    "                menu[curr_dish].append(dishes[i][0])\n",
    "                \n",
    "            elif curr_dish in menu:\n",
    "                menu[curr_dish].append(dishes[i][0])\n",
    "                \n",
    "    for i in menu:\n",
    "        if(len(menu[i]) >= 2):\n",
    "           menu[i].sort()\n",
    "           outp.append([i] + (menu[i]))\n",
    "    \n",
    "    outp.sort()\n",
    "    return outp"
   ]
  },
  {
   "cell_type": "code",
   "execution_count": 76,
   "metadata": {},
   "outputs": [],
   "source": [
    "fin  = groupingDishes(dishes)"
   ]
  },
  {
   "cell_type": "code",
   "execution_count": 77,
   "metadata": {},
   "outputs": [
    {
     "name": "stdout",
     "output_type": "stream",
     "text": [
      "[['Cheese', 'Quesadilla', 'Sandwich'], ['Salad', 'Salad', 'Sandwich'], ['Sauce', 'Pizza', 'Quesadilla', 'Salad'], ['Tomato', 'Pizza', 'Salad', 'Sandwich']]\n"
     ]
    }
   ],
   "source": [
    "print(fin)"
   ]
  },
  {
   "cell_type": "code",
   "execution_count": 113,
   "metadata": {},
   "outputs": [],
   "source": [
    "strings=[\"cat\", \n",
    " \"dog\", \n",
    " \"dog\"]\n",
    "patterns=[\"a\", \n",
    " \"b\", \n",
    " \"b\"]\n"
   ]
  },
  {
   "cell_type": "code",
   "execution_count": 117,
   "metadata": {},
   "outputs": [],
   "source": [
    "def areFollowingPatterns(strings, patterns):\n",
    "    s_dict = {}\n",
    "    p_dict = {}\n",
    "    if (len(strings) < len(patterns)) or (len(patterns) < len(strings)):\n",
    "        return False\n",
    "    \n",
    "    for i in strings:\n",
    "        if i not in s_dict:\n",
    "            s_dict[i] = 1\n",
    "        else:\n",
    "            s_dict[i] +=1\n",
    "    for j in patterns:\n",
    "        if j not in p_dict:\n",
    "            p_dict[j] = 1\n",
    "        else:\n",
    "            p_dict[j] +=1\n",
    "            \n",
    "    for (k, v), (k2, v2) in zip(s_dict.items(), p_dict.items()):\n",
    "        if(v != v2):\n",
    "            return False\n",
    "    return True\n",
    "\n"
   ]
  },
  {
   "cell_type": "code",
   "execution_count": 118,
   "metadata": {},
   "outputs": [
    {
     "data": {
      "text/plain": [
       "True"
      ]
     },
     "execution_count": 118,
     "metadata": {},
     "output_type": "execute_result"
    }
   ],
   "source": [
    "areFollowingPatterns(strings, patterns)"
   ]
  },
  {
   "cell_type": "code",
   "execution_count": 171,
   "metadata": {},
   "outputs": [],
   "source": [
    "def containsCloseNums(nums, k):\n",
    "    if k not in nums:\n",
    "        return False\n",
    "    \n",
    "    hm = {}\n",
    "    for i in nums:\n",
    "        if i in hm:\n",
    "            hm[i] = i+1\n",
    "        else:\n",
    "            hm[i] = 0\n",
    "        \n",
    "    for i in hm:\n",
    "        if hm[i] == k:\n",
    "            return True\n",
    "        continue\n",
    "    return False\n"
   ]
  },
  {
   "cell_type": "code",
   "execution_count": 172,
   "metadata": {},
   "outputs": [
    {
     "data": {
      "text/plain": [
       "False"
      ]
     },
     "execution_count": 172,
     "metadata": {},
     "output_type": "execute_result"
    }
   ],
   "source": [
    "containsCloseNums(nums, k)"
   ]
  },
  {
   "cell_type": "code",
   "execution_count": 169,
   "metadata": {},
   "outputs": [],
   "source": [
    "\n",
    "nums= [0, 1, 2, 3, 5, 2]\n",
    "k= 2"
   ]
  },
  {
   "cell_type": "code",
   "execution_count": 9,
   "metadata": {},
   "outputs": [],
   "source": [
    "def numberOfSubstrings(s: str) -> int:\n",
    "        c = 0\n",
    "        for ind in range(0, len(s)):\n",
    "            next3 = ind + 2\n",
    "            if(('a'or 'b'or'c') in s[ind:next3]):\n",
    "                c += 1\n",
    "            else:\n",
    "                continue\n",
    "        return c"
   ]
  },
  {
   "cell_type": "code",
   "execution_count": 10,
   "metadata": {},
   "outputs": [
    {
     "data": {
      "text/plain": [
       "3"
      ]
     },
     "execution_count": 10,
     "metadata": {},
     "output_type": "execute_result"
    }
   ],
   "source": [
    "numberOfSubstrings(\"abcabc\")"
   ]
  },
  {
   "cell_type": "code",
   "execution_count": null,
   "metadata": {},
   "outputs": [],
   "source": []
  }
 ],
 "metadata": {
  "kernelspec": {
   "display_name": "Python 3",
   "language": "python",
   "name": "python3"
  },
  "language_info": {
   "codemirror_mode": {
    "name": "ipython",
    "version": 3
   },
   "file_extension": ".py",
   "mimetype": "text/x-python",
   "name": "python",
   "nbconvert_exporter": "python",
   "pygments_lexer": "ipython3",
   "version": "3.8.1"
  }
 },
 "nbformat": 4,
 "nbformat_minor": 4
}
